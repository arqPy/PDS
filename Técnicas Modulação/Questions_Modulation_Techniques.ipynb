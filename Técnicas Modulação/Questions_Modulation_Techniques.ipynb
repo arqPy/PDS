{
 "cells": [
  {
   "cell_type": "markdown",
   "metadata": {},
   "source": [
    "<h1 align=\"center\">Questões Resolvidas</h1>\n",
    "\n",
    "**1) \n",
    "Um sinal analógico na faixa de 0 a +100 V deve ser convertido em um sinal digital de 10 bits. Determine a representação digital para uma entrada de 40 V.**\n",
    "\n",
    "*Solução:*\n",
    "\n",
    "Tem-se $2^{10} = 1024$ intervalos para representar os valores de tensão. A variação é de $\\frac{100- 0}{1024} = 0.097 V/divisão. O 0 V corresponde à palavra de 10 bits [0000000000] e 100 V corresponde à palavra de 10 bits [1111111111]. Basta fazer uma regra de três que encontramos à palavra de 10 bits correspondente aos 40 V.\n",
    "\n",
    "$40 V \\Rightarrow \\frac{40 x 1024}{100} $\n",
    "\n",
    "O valor inteiro resultante é $409_{10} \\Rightarrow '0110011001'_2 \\Rightarrow 39.94 V$\n",
    "\n",
    "\n",
    "\n",
    "**2)Preencha os espaços para dar sentido ao texto.**\n",
    "\n",
    "* Na comunicação, o ruído se denomina todo $\\underline{sinal}$ indesejado que está justaposto a um $\\underline{sinal}$ útil, ou seja, é o resultado de vários tipos de $\\underline{pertubações}$ que tendem a atrapalhar uma informação quando ele é apresentado numa$\\underline{frequência}$ considerável dentro da amplitude de todos os $\\underline{sinais}$.\n",
    "\n",
    "* QAM significa Modulação por $\\underline{Amplitude}$ em $\\underline{Quadratura}$.\n",
    "\n",
    "* PWM significa Modulação por $\\underline{Largura}$ de  $\\underline{Pulso}$.\n",
    "\n",
    "* DM, técnica de conversão de sinal $\\underline{Analógico}$ para $\\underline{Digital}$, significa $\\underline{Modulação}$ $\\underline{Delta}$.\n",
    "\n",
    "* Uma desvantagem do sistema PPM é que sempre necessita de $\\underline{sincronia}$ entre o modulador e o $\\underline{demodulador}$.\n",
    "\n",
    "\n",
    "**3)Faça os gráficos da mensagem, portadora e saída de um sistema ASK.**\n",
    "\n",
    "<img src=\"img/modulação_ASK.png\" width=\"400px\">\n",
    "\n",
    "**4)Faça os gráficos da mensagem, portadora e saída de um sistema FSK** \n",
    "\n",
    "<img src=\"img/modulação_FSK.png\" width=\"400px\">\n",
    "\n",
    "\n",
    "**5)Qual deve ser o valor da frequência da Onda Quadrada do sistema PAM da Figura 1? Sabe-se que a mensagem é uma onda triangular de período T = 5 ms**\n",
    "\n",
    "<img src=\"img/circuito-PAM.png\" width=\"400px\">\n",
    "\n",
    "*Solução:*\n",
    "\n",
    "*A frequência de chaveamento deve ser no mínimo o dobro da frequência do sinal a ser amostrado, neste caso a mensagem. Portanto:*\n",
    "\n",
    "$$\n",
    "f_p = 2f_m = 2\\frac{1}{T} = 2\\frac{1}{5.10^{-3}} = 400 Hz\n",
    "$$\n",
    "\n",
    "\n",
    "\n"
   ]
  },
  {
   "cell_type": "code",
   "execution_count": 19,
   "metadata": {},
   "outputs": [
    {
     "name": "stdout",
     "output_type": "stream",
     "text": [
      "409.6\n"
     ]
    }
   ],
   "source": [
    "x = 40*1024/100\n",
    "print(x)\n"
   ]
  },
  {
   "cell_type": "code",
   "execution_count": 26,
   "metadata": {},
   "outputs": [
    {
     "name": "stdout",
     "output_type": "stream",
     "text": [
      "39.94140625\n"
     ]
    }
   ],
   "source": [
    "nbin = '0110011001'\n",
    "a = list(nbin)\n",
    "a.reverse()\n",
    "dec = 0\n",
    "i = 0\n",
    "for b in a:\n",
    "    dec += 2**i*int(b)*100/1024\n",
    "    i += 1\n",
    "print(dec)"
   ]
  },
  {
   "cell_type": "code",
   "execution_count": 23,
   "metadata": {},
   "outputs": [
    {
     "name": "stdout",
     "output_type": "stream",
     "text": [
      "['0', '0', '0', '0', '0', '0', '0', '0', '0', '1']\n",
      "['0', '0', '0', '0', '0', '0', '0', '0', '0', '1']\n",
      "['1', '0', '0', '0', '0', '0', '0', '0', '0', '0']\n"
     ]
    }
   ],
   "source": [
    "nbin = '0000000001'\n",
    "nbin = list(nbin)\n",
    "print(nbin)\n",
    "a = list(nbin)\n",
    "print(a)\n",
    "a.reverse()\n",
    "print(a)\n"
   ]
  },
  {
   "cell_type": "code",
   "execution_count": null,
   "metadata": {},
   "outputs": [],
   "source": []
  }
 ],
 "metadata": {
  "kernelspec": {
   "display_name": "Python 3",
   "language": "python",
   "name": "python3"
  },
  "language_info": {
   "codemirror_mode": {
    "name": "ipython",
    "version": 3
   },
   "file_extension": ".py",
   "mimetype": "text/x-python",
   "name": "python",
   "nbconvert_exporter": "python",
   "pygments_lexer": "ipython3",
   "version": "3.8.5"
  }
 },
 "nbformat": 4,
 "nbformat_minor": 4
}
