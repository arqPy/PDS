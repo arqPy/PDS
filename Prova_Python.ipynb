{
  "nbformat": 4,
  "nbformat_minor": 0,
  "metadata": {
    "colab": {
      "provenance": [],
      "authorship_tag": "ABX9TyOBwT+4PYMugT4b8ZgEkJ2p",
      "include_colab_link": true
    },
    "kernelspec": {
      "name": "python3",
      "display_name": "Python 3"
    }
  },
  "cells": [
    {
      "cell_type": "markdown",
      "metadata": {
        "id": "view-in-github",
        "colab_type": "text"
      },
      "source": [
        "<a href=\"https://colab.research.google.com/github/arqPy/PDS/blob/main/Prova_Python.ipynb\" target=\"_parent\"><img src=\"https://colab.research.google.com/assets/colab-badge.svg\" alt=\"Open In Colab\"/></a>"
      ]
    },
    {
      "cell_type": "markdown",
      "metadata": {
        "id": "i352-xdEbbzb"
      },
      "source": [
        "Escreva um programa que converta um número binário para o seu equivalente decimal. O número solicitado do usuário é do tipo string. A conversão se dá através do uso da potência de dois conforme a posição do bit do número binário. Faça a entrada e a saída conforme o exemplo abaixo:\n",
        "\n",
        "\n",
        "Por favor entre um número binário de 8 dígitos: 01010011\n",
        "\n",
        "O decimal equivalente é 83"
      ]
    },
    {
      "cell_type": "code",
      "metadata": {
        "id": "Za_PkmyCbszo",
        "outputId": "0ad648cd-ca05-4072-b0ae-605a50e909dd",
        "colab": {
          "base_uri": "https://localhost:8080/"
        }
      },
      "source": [
        "# Ronaldo\n",
        "# y = int(x[0])*2**7+int(x[1])*2**6+int(x[2])*2**5+int(x[3])*2**4+\n",
        "#     int(x[4])*2**3+int(x[5])*2**2+int(x[6])*2**1+int(x[7])*2**0\n",
        "t = 0\n",
        "while t < 8:\n",
        "  x = input('Digite um número binário de 8 dígitos: ')\n",
        "  t = len(x)\n",
        "\n",
        "  if (t < 8):\n",
        "    x = (8 - t)*'0' + x\n",
        "    t = 8\n",
        "y = 0\n",
        "for i in range(8):\n",
        "  y = int(x[i])*2**(7-i) + y\n",
        "\n",
        "\n",
        "print('O decimal equivalente é:', y)"
      ],
      "execution_count": null,
      "outputs": [
        {
          "output_type": "stream",
          "text": [
            "Digite um número binário de 8 dígitos: 01010011\n",
            "O decimal equivalente é: 83\n"
          ],
          "name": "stdout"
        }
      ]
    },
    {
      "cell_type": "code",
      "metadata": {
        "id": "f_keFULPdVtK",
        "outputId": "44733494-21be-4d11-cfae-c2e6a604d332",
        "colab": {
          "base_uri": "https://localhost:8080/"
        }
      },
      "source": [
        "# David\n",
        "def BinarioParaDecimal(binario):\n",
        "  binary1 = int(binario)\n",
        "\n",
        "  decimal, i, n = 0, 0, 0\n",
        "\n",
        "  while(binario != 0):\n",
        "    dec = binario % 10\n",
        "\n",
        "    decimal = decimal + dec * pow(2, i)\n",
        "\n",
        "    binario = binario//10\n",
        "\n",
        "    i += 1\n",
        "\n",
        "  print(f'O decimal é {decimal}!')\n",
        "\n",
        "\n",
        "\n",
        "\n",
        "\n",
        "binario = str(input(\"Digite o número binario de oito digitos: \"))\n",
        "\n",
        "binario = int(binario)\n",
        "\n",
        "BinarioParaDecimal(binario)"
      ],
      "execution_count": null,
      "outputs": [
        {
          "output_type": "stream",
          "text": [
            "Digite o número binario de oito digitos: 01010011\n",
            "O decimal é 83!\n"
          ],
          "name": "stdout"
        }
      ]
    },
    {
      "cell_type": "code",
      "metadata": {
        "id": "mvbLFI46juQt",
        "outputId": "8128b079-62d8-47db-fa60-4107532900a7",
        "colab": {
          "base_uri": "https://localhost:8080/"
        }
      },
      "source": [
        "# Rodrigo\n",
        "def convert_bin_dec(n):\n",
        "  dec = 0\n",
        "\n",
        "  n = str(n)\n",
        "\n",
        "  n = n[::-1]\n",
        "  # inverteu a string para coincidir com a posição\n",
        "  # da menos significativa para a mais significativa\n",
        "\n",
        "  tam = len(n)\n",
        "\n",
        "  for i in range(tam):\n",
        "\n",
        "      if n[i] == \"1\":\n",
        "\n",
        "          dec = dec + 2**i\n",
        "\n",
        "  return dec\n",
        "\n",
        "\n",
        "\n",
        "n = input(\"Digite um número binário (zeros e/ou uns) com 8 digitos: \")\n",
        "\n",
        "d = convert_bin_dec(n)\n",
        "\n",
        "print(d)"
      ],
      "execution_count": null,
      "outputs": [
        {
          "output_type": "stream",
          "text": [
            "Digite um número binário (zeros e/ou uns) com 8 digitos: 01010011\n",
            "11001010\n",
            "83\n"
          ],
          "name": "stdout"
        }
      ]
    },
    {
      "cell_type": "markdown",
      "metadata": {
        "id": "fIe69CcPAcpO"
      },
      "source": [
        "Faça um programa para saber se o usuário inseriu um número par em uma lista de números. A entrada da lista deve ser uma string com os números separados por espaço em branco. Use o método split que converte string em lista."
      ]
    },
    {
      "cell_type": "code",
      "metadata": {
        "id": "iXnLTLojA47w",
        "outputId": "5d1b6dd8-f295-40be-ccc6-518eaf47a1c0",
        "colab": {
          "base_uri": "https://localhost:8080/"
        }
      },
      "source": [
        "# Gabarito\n",
        "\n",
        "def existePar(seq):\n",
        "  ok = False\n",
        "  for n in seq:\n",
        "    ok = (int(n) % 2 == 0)\n",
        "    if ok:\n",
        "      return ok\n",
        "  return ok\n",
        "\n",
        "\n",
        "s = input('Digite uma sequencia de números separados por espaço: ')\n",
        "l = s.split(\" \")\n",
        "print(l)\n",
        "msg = \"HÁ Número par na sequência digitada\"\n",
        "\n",
        "if existePar(l):\n",
        "  print( msg)\n",
        "else:\n",
        "  print(\"NÃO \" + msg)\n",
        "\n",
        "\n"
      ],
      "execution_count": null,
      "outputs": [
        {
          "output_type": "stream",
          "text": [
            "Digite uma sequencia de números separados por espaço: 11 2567 367\n",
            "['11', '2567', '367']\n",
            "NÃO HÁ Número par na sequência digitada\n"
          ],
          "name": "stdout"
        }
      ]
    },
    {
      "cell_type": "code",
      "metadata": {
        "id": "92iXKzB-gZVL",
        "outputId": "4a765b93-5bad-4bb0-ac02-fc62ff7a115d",
        "colab": {
          "base_uri": "https://localhost:8080/"
        }
      },
      "source": [
        "# Ronaldo\n",
        "y = input('Digite uma sequencia de números separados por espaço: ')\n",
        "\n",
        "\n",
        "\n",
        "if (len(y.split()) % 2) == 0:\n",
        "  print('É uma sequencia par de números.Contém ', len(y.split()),' dígitos')\n",
        "\n",
        "else:\n",
        "  print('É uma sequencia ímpar de número. Contém ', len(y.split()),' dígitos')"
      ],
      "execution_count": null,
      "outputs": [
        {
          "output_type": "stream",
          "text": [
            "Digite uma sequencia de números separados por espaço: 2 5 9\n",
            "É uma sequencia ímpar de número. Contém  3  dígitos\n"
          ],
          "name": "stdout"
        }
      ]
    },
    {
      "cell_type": "code",
      "metadata": {
        "id": "kVCyJ49YAtg5",
        "outputId": "19eec57f-f781-4fed-b96c-cd75b469cd89",
        "colab": {
          "base_uri": "https://localhost:8080/"
        }
      },
      "source": [
        "lista_str = str(input('Digite os números da lista, com um espaço em branco entre eles: '))\n",
        "\n",
        "lista = lista_str.split(' ')\n",
        "\n",
        "\n",
        "\n",
        "for i in lista:\n",
        "\n",
        "\tif int(i)%2 == 0:\n",
        "\n",
        "\t\tprint(f'O número {i} é par!')\n",
        "\n",
        "\telse:\n",
        "\n",
        "\t\tprint(f'O número {i} não é par!')"
      ],
      "execution_count": null,
      "outputs": [
        {
          "output_type": "stream",
          "text": [
            "Digite os números da lista, com um espaço em branco entre eles: 1 2 3\n",
            "O número 1 não é par!\n",
            "O número 2 é par!\n",
            "O número 3 não é par!\n"
          ],
          "name": "stdout"
        }
      ]
    },
    {
      "cell_type": "code",
      "metadata": {
        "id": "2L7prMlmE9UX",
        "outputId": "1d4c2817-816e-402b-e49c-230fe699f2df",
        "colab": {
          "base_uri": "https://localhost:8080/"
        }
      },
      "source": [
        "# David\n",
        "nota = float(input(\"Por favor, digite o valor da nota atingido: \"))\n",
        "\n",
        "if nota == 100:\n",
        "\n",
        "\n",
        "\tprint('Seu conceito é A!')\n",
        "\n",
        "elif 95 <= nota < 100:\n",
        "\n",
        "\tprint('Seu conceito é A-!')\n",
        "\n",
        "elif 85 <= nota < 95:\n",
        "\n",
        "\tprint('Seu conceito é B+!')\n",
        "\n",
        "elif 80 <= nota < 85:\n",
        "\n",
        "\tprint('Seu conceito é B!')\n",
        "\n",
        "elif 75 <= nota < 80:\n",
        "\n",
        "\tprint('Seu conceito é B-!')\n",
        "\n",
        "elif 70 <= nota < 75:\n",
        "\n",
        "\tprint('Seu conceito é C+!')\n",
        "\n",
        "elif 65 <= nota < 70:\n",
        "\n",
        "\tprint('Seu conceito é C!')\n",
        "\n",
        "elif 60 <= nota < 65:\n",
        "\n",
        "\tprint('Seu conceito é C-!')\n",
        "\n",
        "elif 55 <= nota < 60:\n",
        "\n",
        "\tprint('Seu conceito é D+!')\n",
        "\n",
        "elif 50 <= nota < 55:\n",
        "\n",
        "\tprint('Seu conceito é D!')\n",
        "\n",
        "elif 45 <= nota < 50:\n",
        "\n",
        "\tprint('Seu conceito é D-!')\n",
        "\n",
        "elif nota < 45:\n",
        "\n",
        "\tprint('Seu conceito é F!')"
      ],
      "execution_count": null,
      "outputs": [
        {
          "output_type": "stream",
          "text": [
            "Por favor, digite o valor da nota atingido: 100\n",
            "Seu conceito é A!\n"
          ],
          "name": "stdout"
        }
      ]
    },
    {
      "cell_type": "code",
      "metadata": {
        "id": "oceV8xJKxhOt",
        "outputId": "d462aaf1-9c92-4a1e-9cc9-cf0f629839f1",
        "colab": {
          "base_uri": "https://localhost:8080/"
        }
      },
      "source": [
        "# Luzo\n",
        "nota = int(input(\"Digite a Nota: \"))\n",
        "if nota <= 4:\n",
        "  print(\"Nota: F\")\n",
        "elif nota <= 8:\n",
        "  print(\"Nota: D-\")\n",
        "elif nota <= 16:\n",
        "  print(\"Nota: D\")\n",
        "elif nota <= 32:\n",
        "  print(\"Nota: D+\")\n",
        "elif nota <= 40:\n",
        "  print(\"Nota: C-\")\n",
        "elif nota <= 48:\n",
        "  print(\"Nota: C\")\n",
        "elif nota <= 56:\n",
        "  print(\"Nota: C+\")\n",
        "elif nota <= 64:\n",
        "  print(\"Nota: B-\")\n",
        "elif nota <= 72:\n",
        "  print(\"Nota: B\")\n",
        "elif nota <= 80:\n",
        "  print(\"Nota: B+\")\n",
        "elif nota <= 88:\n",
        "  print(\"Nota: A-\")\n",
        "elif nota <= 100:\n",
        "  print(\"Nota: A+\")\n",
        "else:\n",
        "  print(\"Entrada invalida. \")"
      ],
      "execution_count": null,
      "outputs": [
        {
          "output_type": "stream",
          "text": [
            "Digite a Nota: 92\n",
            "Nota: A+\n"
          ],
          "name": "stdout"
        }
      ]
    },
    {
      "cell_type": "code",
      "metadata": {
        "id": "bug_kWgqzUf0",
        "outputId": "ca882c4c-47cd-4196-b4de-ac5457d4ce21",
        "colab": {
          "base_uri": "https://localhost:8080/"
        }
      },
      "source": [
        "# Rodrigo\n",
        "nota = float(input(\"Digite a nota alcançada de 0 a 100: \"))\n",
        "\n",
        "\n",
        "\n",
        "if (0< nota <= 10.0):\n",
        "\n",
        "    print(\"Conceito: F\")\n",
        "\n",
        "if (11.0< nota <= 19.0):\n",
        "\n",
        "    print(\"Conceito: D-\")\n",
        "\n",
        "if (20.0< nota <= 28.0):\n",
        "\n",
        "    print(\"Conceito: D\")\n",
        "\n",
        "if (29.0< nota <= 37.0):\n",
        "\n",
        "    print(\"Conceito: D+\")\n",
        "\n",
        "if (38.0< nota <= 46.0):\n",
        "\n",
        "    print(\"Conceito: C+\")\n",
        "\n",
        "if (47.0< nota <= 55.0):\n",
        "\n",
        "    print(\"Conceito: C\")\n",
        "\n",
        "if (56.0< nota <= 64.0):\n",
        "\n",
        "    print(\"Conceito: C+\")\n",
        "\n",
        "if (65.0< nota <= 73.0):\n",
        "\n",
        "    print(\"Conceito: B-\")\n",
        "\n",
        "if (74.0< nota <= 82.0):\n",
        "\n",
        "    print(\"Conceito: B\")\n",
        "\n",
        "if (83.0< nota <= 91.0):\n",
        "\n",
        "    print(\"Conceito: B+\")\n",
        "\n",
        "if (92.0< nota <= 95.0):\n",
        "\n",
        "    print(\"Conceito: A-\")\n",
        "\n",
        "if (96.0< nota <= 100.0):\n",
        "\n",
        "    print(\"Conceito: A\")"
      ],
      "execution_count": null,
      "outputs": [
        {
          "output_type": "stream",
          "text": [
            "Digite a nota alcançada de 0 a 100: 95.5\n"
          ],
          "name": "stdout"
        }
      ]
    },
    {
      "cell_type": "code",
      "metadata": {
        "id": "hHHkmWfu1Muv",
        "outputId": "f1f8b707-e683-4b1f-a955-ebe5072ee69c",
        "colab": {
          "base_uri": "https://localhost:8080/"
        }
      },
      "source": [
        "# Danilo\n",
        "a = int (input('Digite a nota do aluno'))\n",
        "if (0<= a <8):\n",
        "  print('A nota do aluno é F')\n",
        "if (8<=a<16):\n",
        "  print('A nota do aluno é D-')\n",
        "\n",
        "if (16<=a<24):\n",
        "  print('A nota do aluno é D')\n",
        "\n",
        "if (24<=a<32):\n",
        "  print('A nota do aluno é C-')\n",
        "\n",
        "if (32<=a<40):\n",
        "  print('A nota do aluno é C')\n",
        "\n",
        "if (40<=a<50):\n",
        "  print('A nota do aluno é C+')\n",
        "\n",
        "if (50<=a<60):\n",
        "  print('A nota do aluno é B-')\n",
        "\n",
        "if (60<=a<70):\n",
        "  print('A nota do aluno é B')\n",
        "\n",
        "if (70<=a<80):\n",
        "  print('A nota do aluno é B+')\n",
        "\n",
        "if (80<=a<94):\n",
        "  print('A nota do aluno é A-')\n",
        "\n",
        "if (94<=a<100):\n",
        "  print('A nota do aluno é A')"
      ],
      "execution_count": null,
      "outputs": [
        {
          "output_type": "stream",
          "text": [
            "Digite a nota do aluno93\n",
            "A nota do aluno é A-\n"
          ],
          "name": "stdout"
        }
      ]
    },
    {
      "cell_type": "code",
      "metadata": {
        "id": "YFjg1LfE2HjR"
      },
      "source": [],
      "execution_count": null,
      "outputs": []
    }
  ]
}