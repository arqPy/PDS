{
 "cells": [
  {
   "cell_type": "markdown",
   "metadata": {},
   "source": [
    "<h1 align=\"center\">Questões Resolvidas</h1>\n",
    "\n",
    "1) Qual o espectro do sinal periódico da Figura 1 ?\n",
    "\n",
    "![\"Figura 1 - Sinal Discreto\"](img/Fig_01.png)\n",
    "\n",
    "\n",
    "\n",
    "\n"
   ]
  },
  {
   "cell_type": "markdown",
   "metadata": {},
   "source": [
    "**Solução:** \n",
    "$$\n",
    "\\begin{align}\n",
    "c_k = \\frac{1}{N}\\sum_{n=<N>} x[n] e^{-jkw_0n} \\ onde \\ N = 16 \\ (período) \\\\\n",
    "c_k = \\frac{1}{16}\\sum_{n=-4}^{n=4} 1.e^{-jk\\frac{\\pi}{8}n} \\ onde \\ w_0 = \\frac{2\\pi}{16} \\\\\n",
    "Fazendo \\ m = n + 4 \\\\\n",
    "c_k = \\frac{1}{16}\\sum_{m=0}^{m=8} 1.e^{-jk\\frac{\\pi}{8}(m-4)} \\\\\n",
    "c_k = \\frac{e^{jk\\frac{4\\pi}{8}}}{16}\\sum_{m=0}^{m=8} e^{-jk\\frac{m\\pi}{8}}\n",
    "\\end{align}\n",
    "$$\n",
    "\n",
    "\n",
    "Aplica-se a fórmula da soma geométrica: $S_n = \\frac{1-r^{n+1}}{1-r}$. Então:\n",
    "\n",
    "$$\n",
    "c_k = \\frac{e^{jk\\frac{4\\pi}{8}}}{16}\\frac{1-(e^{-jk\\frac{\\pi}{8}})^9}{1-e^{-jk\\frac{\\pi}{8}}} \\\\\n",
    "c_k = \\frac{e^{jk\\frac{\\pi}{2}}}{16}\\frac{1-e^{-jk\\frac{9\\pi}{8}}}{1-e^{-jk\\frac{\\pi}{8}}} \\\\\n",
    "c_k = \\frac{e^{jk\\frac{\\pi}{2}}}{16} \n",
    "\\frac{e^{-jk\\frac{9\\pi}{16}}}{e^{-jk\\frac{\\pi}{16}}}\n",
    "\\frac{(e^{jk\\frac{9\\pi}{16}}-e^{-jk\\frac{9\\pi}{16}})}{(e^{jk\\frac{\\pi}{16}}-e^{-jk\\frac{\\pi}{16}})} \\\\\n",
    "c_k = \\frac{1}{16}\\frac{sen(\\frac{9\\pi}{16}k)}{sen(\\frac{\\pi}{16})k}, \\ p/ \\ k \\neq 0, \\pm 16, \\pm 32, ... \\\\\n",
    "c_k = \\frac{9}{16}, \\ p/ \\ k = 0, \\pm 16, \\pm 32, ... \\ (calculado \\ na \\ somatória \\ original)\n",
    "$$"
   ]
  },
  {
   "cell_type": "markdown",
   "metadata": {},
   "source": [
    "2) Determine os coeficientes $c_n$ da Série discreta de Fourier do sinal periódico $x[n] = [1, 2/3, 1/3, 0]$ com período fundamental N = 4.\n",
    "\n"
   ]
  },
  {
   "cell_type": "markdown",
   "metadata": {},
   "source": [
    "3) Qual o espectro do sinal periódico da Figura 2 ?\n",
    "\n",
    "![\"Figura 2 - Sinal Discreto\"](img/Fig_02.png)\n",
    "\n"
   ]
  },
  {
   "cell_type": "markdown",
   "metadata": {},
   "source": [
    "**Solução:** \n",
    "$$\n",
    "\\begin{align}\n",
    "c_k = \\frac{1}{N}\\sum_{n=<N>} x[n] e^{-jkw_0n}, \\ onde \\ N = 7 \\ (período) \\\\\n",
    "c_k = \\frac{1}{7}\\sum_{n=-2}^{n=2} 1.e^{-jk\\frac{2\\pi}{7}n} \\  \\\\\n",
    "Fazendo \\ m = n + 2 \\\\\n",
    "c_k = \\frac{1}{7}\\sum_{m=0}^{m=4} e^{-jk\\frac{2\\pi}{7}(m-2)} \\\\\n",
    "c_k = \\frac{e^{jk\\frac{4\\pi}{7}}}{7}\\sum_{m=0}^{m=4} e^{-jk\\frac{2m\\pi}{7}} \n",
    "\\end{align}\n",
    "$$\n",
    "Aplica-se a fórmula da soma geométrica: $S_n = \\frac{1-r^{n+1}}{1-r}$. Então:\n",
    "\n",
    "$$\n",
    "c_k = \\frac{e^{jk\\frac{4\\pi}{7}}}{7}\\frac{1-(e^{-jk\\frac{2\\pi}{7}})^5}{1-e^{-jk\\frac{2\\pi}{7}}} \\\\\n",
    "c_k = \\frac{e^{jk\\frac{4\\pi}{7}}}{7}\\frac{1-e^{-jk\\frac{10\\pi}{7}}}{1-e^{-jk\\frac{2\\pi}{7}}} \\\\\n",
    "c_k = \\frac{e^{jk\\frac{4\\pi}{7}}}{7} \n",
    "\\frac{e^{-jk\\frac{10\\pi}{14}}}{e^{-jk\\frac{2\\pi}{14}}}\n",
    "\\frac{(e^{jk\\frac{10\\pi}{14}}-e^{-jk\\frac{10\\pi}{14}})}{(e^{jk\\frac{2\\pi}{14}}-e^{-jk\\frac{2\\pi}{14}})} \\\\\n",
    "c_k = \\frac{1}{7}\\frac{sen(\\frac{5\\pi}{7}k)}{sen(\\frac{\\pi}{7})k}, \\ p/ \\ k \\neq 0, \\pm 7, \\pm 14, ... \\\\\n",
    "c_k = \\frac{5}{7}, \\ p/ \\ k = 0, \\pm 7, \\pm 14, ... \\ (calculado \\ na \\ somatória \\ original)\n",
    "$$\n",
    "\n",
    "\n"
   ]
  },
  {
   "cell_type": "markdown",
   "metadata": {},
   "source": [
    "4) Dado o sinal $x[n]  = 2u[n] - u[n-4] - u[n+4]$, faça o gráfico e determine, se possível, de acordo com o conteúdo indicado para esta avaliação, o espetro de frequências do sinal $x[n]$!\n",
    "\n",
    "\n",
    "\n"
   ]
  },
  {
   "cell_type": "markdown",
   "metadata": {},
   "source": [
    "5) O diferenciador, $y[n] = x[n] – x[n-1]$, é invariante ao deslocamento?\n",
    "\n",
    "**Solução:**\n",
    "\n",
    "*Sim. Pois, $x_1[n] \\Rightarrow y_1[n] = x_1[n] – x_1[n-1]$* \n",
    "\n",
    "*e para $x_2[n] = x_1[n-n_0] \\Rightarrow y_2[n] = x_2[n] – x_2[n-1] =  x_1[n-n_0] -  x_1[n-n_0 - 1] = y_1[n - n_0]$*\n"
   ]
  },
  {
   "cell_type": "markdown",
   "metadata": {},
   "source": [
    "6) Qual o período fundamental de $𝑥[𝑛]=𝑒^{𝑗\\frac{2𝜋}{5}𝑛} + 𝑒^{-𝑗\\frac{3𝜋}{7}𝑛}$ ?\n",
    "\n",
    "7) Uma Exponencial Complexa Harmônica Relacionada é uma exponencial cuja frequência é múltipla da frequência fundamental?\n",
    "\n",
    "8) O sistema $y(n) = x(-n)$ é invariante ao deslocamento ?\n",
    "\n",
    "**Solução:**\n",
    "\n",
    "*Não. Pois, $x_1[n] \\Rightarrow y_1[n] = x_1[-n]$* \n",
    "\n",
    "*e para $x_2[n] = x_1[n-n_0] \\Rightarrow y_2[n] = x_2[-n] = x_1[-n+n_0] \\neq y_1[n - n_0]$*\n",
    "\n",
    "\n",
    "9) Determine x[n] dado X(z). Sabe-se que x[n] é uma sequência causal.\n",
    "\n",
    "$$\n",
    "𝑋(𝑧)= \\frac{1+𝑧^{−1}}{1+𝑧^{−1}+ 0.5𝑧^{−2}}\n",
    "$$\n",
    "\n",
    "10) Qual o período fundamental do sinal $𝑥[𝑛]=𝑐𝑜𝑠(\\frac{7𝜋}{15}𝑛)$?"
   ]
  },
  {
   "cell_type": "code",
   "execution_count": null,
   "metadata": {},
   "outputs": [],
   "source": []
  }
 ],
 "metadata": {
  "kernelspec": {
   "display_name": "Python 3",
   "language": "python",
   "name": "python3"
  },
  "language_info": {
   "codemirror_mode": {
    "name": "ipython",
    "version": 3
   },
   "file_extension": ".py",
   "mimetype": "text/x-python",
   "name": "python",
   "nbconvert_exporter": "python",
   "pygments_lexer": "ipython3",
   "version": "3.8.5"
  }
 },
 "nbformat": 4,
 "nbformat_minor": 4
}
