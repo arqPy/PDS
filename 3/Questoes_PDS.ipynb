{
 "cells": [
  {
   "cell_type": "markdown",
   "metadata": {},
   "source": [
    "<h1 align=\"center\">Questões Resolvidas</h1>\n",
    "\n",
    "**1) Qual o espectro do sinal periódico da Figura 1 ?**\n",
    "\n",
    "![\"Figura 1 - Sinal Discreto\"](img/Fig_01.png)\n",
    "\n",
    "\n",
    "\n",
    "**Solução:** \n",
    "$$\n",
    "\\begin{align}\n",
    "c_k = \\frac{1}{N}\\sum_{n=<N>} x[n] e^{-jkw_0n} \\ onde \\ N = 16 \\ (período) \\\\\n",
    "c_k = \\frac{1}{16}\\sum_{n=-4}^{n=4} 1.e^{-jk\\frac{\\pi}{8}n} \\ onde \\ w_0 = \\frac{2\\pi}{16} \\\\\n",
    "Fazendo \\ m = n + 4 \\\\\n",
    "c_k = \\frac{1}{16}\\sum_{m=0}^{m=8} 1.e^{-jk\\frac{\\pi}{8}(m-4)} \\\\\n",
    "c_k = \\frac{e^{jk\\frac{4\\pi}{8}}}{16}\\sum_{m=0}^{m=8} e^{-jk\\frac{m\\pi}{8}}\n",
    "\\end{align}\n",
    "$$\n",
    "\n",
    "\n",
    "Aplica-se a fórmula da soma geométrica: $S_n = \\frac{1-r^{n+1}}{1-r}$. Então:\n",
    "\n",
    "$$\n",
    "c_k = \\frac{e^{jk\\frac{4\\pi}{8}}}{16}\\frac{1-(e^{-jk\\frac{\\pi}{8}})^9}{1-e^{-jk\\frac{\\pi}{8}}} \\\\\n",
    "c_k = \\frac{e^{jk\\frac{\\pi}{2}}}{16}\\frac{1-e^{-jk\\frac{9\\pi}{8}}}{1-e^{-jk\\frac{\\pi}{8}}} \\\\\n",
    "c_k = \\frac{e^{jk\\frac{\\pi}{2}}}{16} \n",
    "\\frac{e^{-jk\\frac{9\\pi}{16}}}{e^{-jk\\frac{\\pi}{16}}}\n",
    "\\frac{(e^{jk\\frac{9\\pi}{16}}-e^{-jk\\frac{9\\pi}{16}})}{(e^{jk\\frac{\\pi}{16}}-e^{-jk\\frac{\\pi}{16}})} \\\\\n",
    "c_k = \\frac{1}{16}\\frac{sen(\\frac{9\\pi}{16}k)}{sen(\\frac{\\pi}{16})k}, \\ p/ \\ k \\neq 0, \\pm 16, \\pm 32, ... \\\\\n",
    "c_k = \\frac{9}{16}, \\ p/ \\ k = 0, \\pm 16, \\pm 32, ... \\ (calculado \\ na \\ somatória \\ original)\n",
    "$$\n"
   ]
  },
  {
   "cell_type": "markdown",
   "metadata": {},
   "source": [
    "**2) Determine os coeficientes $c_n$ da Série discreta de Fourier do sinal periódico $x[n] = [\\underline{1}, 2/3, 1/3, 0]$ com período fundamental N = 4.**\n",
    "\n",
    "**Solução:**\n",
    "\n",
    "*$$\n",
    "\\begin{align}\n",
    "c_k = \\frac{1}{4}\\sum_{n=<4>} x[n] e^{-jkw_0n} \\\\\n",
    "c_k = \\frac{1}{4}\\sum_{n=0}^{n=3} x[n] W^{kn} \\ onde \\ W_4 = e^{-jw_0} \\ com \\ w_0 = \\frac{2\\pi}{4}= \\frac{\\pi}{2} \\Rightarrow W = -j  \\\\\n",
    "c_k = \\frac{1}{4}\\sum_{n=0}^{n=3} x[n] (-j)^{kn} \\\\\n",
    "c_0 = \\frac{1}{4}(x[0] + x[1] + x[2] + x[3])= \\frac{2}{4} \\\\\n",
    "c_1 = \\frac{1}{4}(x[0] + x[1](-j) + x[2](-j)^2 + x[3](-j)^3)= \\frac{1}{4}(x[0] - x[1]j - x[2] + x[3]j) = \\frac{1}{4}(\\frac{2}{3} - \\frac{2}{3}j)  \\\\\n",
    "c_2 = \\frac{1}{4}(x[0] + x[1](-j)^2 + x[2](-j)^4 + x[3](-j)^6)= \\frac{1}{4}(x[0] - x[1] + x[2] - x[3]j) = \\frac{1}{4}(\\frac{2}{3} )\\\\\n",
    "c_3 = \\frac{1}{4}(x[0] + x[1](-j)^3 + x[2](-j)^6 + x[3](-j)^9) = \\frac{1}{4}(x[0] + x[1]j - x[2] - x[3]j)= \\frac{1}{4}(\\frac{2}{3} + \\frac{2}{3}j) \\\\\n",
    "\\end{align}\n",
    "$$*"
   ]
  },
  {
   "cell_type": "markdown",
   "metadata": {},
   "source": [
    "**3) Qual o espectro do sinal periódico da Figura 2 ?**\n",
    "\n",
    "![\"Figura 2 - Sinal Discreto\"](img/Fig_02.png)\n",
    "\n",
    "**Solução:** \n",
    "$$\n",
    "\\begin{align}\n",
    "c_k = \\frac{1}{N}\\sum_{n=<N>} x[n] e^{-jkw_0n}, \\ onde \\ N = 7 \\ (período) \\\\\n",
    "c_k = \\frac{1}{7}\\sum_{n=-2}^{n=2} 1.e^{-jk\\frac{2\\pi}{7}n} \\  \\\\\n",
    "Fazendo \\ m = n + 2 \\\\\n",
    "c_k = \\frac{1}{7}\\sum_{m=0}^{m=4} e^{-jk\\frac{2\\pi}{7}(m-2)} \\\\\n",
    "c_k = \\frac{e^{jk\\frac{4\\pi}{7}}}{7}\\sum_{m=0}^{m=4} e^{-jk\\frac{2m\\pi}{7}} \n",
    "\\end{align}\n",
    "$$\n",
    "Aplica-se a fórmula da soma geométrica: $S_n = \\frac{1-r^{n+1}}{1-r}$. Então:\n",
    "\n",
    "$$\n",
    "c_k = \\frac{e^{jk\\frac{4\\pi}{7}}}{7}\\frac{1-(e^{-jk\\frac{2\\pi}{7}})^5}{1-e^{-jk\\frac{2\\pi}{7}}} \\\\\n",
    "c_k = \\frac{e^{jk\\frac{4\\pi}{7}}}{7}\\frac{1-e^{-jk\\frac{10\\pi}{7}}}{1-e^{-jk\\frac{2\\pi}{7}}} \\\\\n",
    "c_k = \\frac{e^{jk\\frac{4\\pi}{7}}}{7} \n",
    "\\frac{e^{-jk\\frac{10\\pi}{14}}}{e^{-jk\\frac{2\\pi}{14}}}\n",
    "\\frac{(e^{jk\\frac{10\\pi}{14}}-e^{-jk\\frac{10\\pi}{14}})}{(e^{jk\\frac{2\\pi}{14}}-e^{-jk\\frac{2\\pi}{14}})} \\\\\n",
    "c_k = \\frac{1}{7}\\frac{sen(\\frac{5\\pi}{7}k)}{sen(\\frac{\\pi}{7})k}, \\ p/ \\ k \\neq 0, \\pm 7, \\pm 14, ... \\\\\n",
    "c_k = \\frac{5}{7}, \\ p/ \\ k = 0, \\pm 7, \\pm 14, ... \\ (calculado \\ na \\ somatória \\ original)\n",
    "$$\n"
   ]
  },
  {
   "cell_type": "markdown",
   "metadata": {},
   "source": [
    "\n",
    "\n"
   ]
  },
  {
   "cell_type": "markdown",
   "metadata": {},
   "source": [
    "**4) Dado o sinal $x[n]  = 2u[n] - u[n-4] - u[n+4]$, faça o gráfico e determine, se possível, de acordo com o conteúdo indicado para esta avaliação, o espectro de frequências do sinal $x[n]$!**\n",
    "\n",
    "**Solução**\n",
    "\n",
    "![\"Figura 1 - Sinal Discreto\"](img/grafico_saida.png)\n",
    "\n",
    "*A série de Fourier não é aplicada neste caso por se tratar de um sinal Não-Periódico*\n",
    "\n"
   ]
  },
  {
   "cell_type": "markdown",
   "metadata": {},
   "source": [
    "**5) O diferenciador, $y[n] = x[n] – x[n-1]$, é invariante ao deslocamento?**\n",
    "\n",
    "**Solução:**\n",
    "\n",
    "*Sim. Pois, $x_1[n] \\Rightarrow y_1[n] = x_1[n] – x_1[n-1]$* \n",
    "\n",
    "*e para $x_2[n] = x_1[n-n_0] \\Rightarrow y_2[n] = x_2[n] – x_2[n-1] =  x_1[n-n_0] -  x_1[n-n_0 - 1] = y_1[n - n_0]$*\n"
   ]
  },
  {
   "cell_type": "markdown",
   "metadata": {},
   "source": [
    "**6) Qual o período fundamental de $𝑥[𝑛]=𝑒^{𝑗\\frac{2𝜋}{5}𝑛} + 𝑒^{-𝑗\\frac{3𝜋}{7}𝑛}$ ?**\n",
    "\n",
    "**Solução:**\n",
    "\n",
    "*$w_{m1} = \\frac{2𝜋}{5} \\Rightarrow w_{m1} = m_1\\frac{2𝜋}{N_1} \\Rightarrow N_1 = m_15$* \n",
    "\n",
    "*para $m_1 = 1$, tem-se o menor $N_1 = 5$*\n",
    "\n",
    "*$w_{m2} = \\frac{3𝜋}{7} \\Rightarrow w_{m2} = m_2\\frac{2𝜋}{N_2} \\Rightarrow N_2 = m_2\\frac{14}{3}$* \n",
    "\n",
    "*para $m_2 = 3$, tem-se o menor $N_2 = 14$. Logo, N = mmc(5, 14) = 70*\n",
    "\n",
    "\n",
    "**7) Uma Exponencial Complexa Harmônica Relacionada é uma exponencial cuja frequência é múltipla da frequência fundamental?**\n",
    "\n",
    "**Solução:**\n",
    "\n",
    "*Sim. As frequências harmônicas $w_n$ são múltiplas da frequência fundamental $w_0$* \n",
    "\n",
    "**8) O sistema $y(n) = x(-n)$ é invariante ao deslocamento ?**\n",
    "\n",
    "**Solução:**\n",
    "\n",
    "*Não. Pois, $x_1[n] \\Rightarrow y_1[n] = x_1[-n]$* \n",
    "\n",
    "*e para $x_2[n] = x_1[n-n_0] \\Rightarrow y_2[n] = x_2[-n] = x_1[-n+n_0] \\neq y_1[n - n_0]$*"
   ]
  },
  {
   "cell_type": "markdown",
   "metadata": {},
   "source": [
    "**9) Determine x[n] dado X(z). Sabe-se que x[n] é uma sequência causal.**\n",
    "\n",
    "$$\n",
    "𝑋(𝑧)= \\frac{1+𝑧^{−1}}{1+𝑧^{−1}+ 0.5𝑧^{−2}}\n",
    "$$\n",
    "\n",
    "**Solução:**\n",
    "\n",
    "$$\n",
    "𝑋(𝑧)= \\frac{z^2}{z^2}\\frac{1+𝑧^{−1}}{1+𝑧^{−1}+ 0.5𝑧^{−2}} \\\\\n",
    "𝑋(𝑧)= \\frac{z^2+𝑧}{z^2+𝑧+ 0.5} \\\\\n",
    "𝑋(𝑧)= \\frac{z(z+1)}{z^2+𝑧+ 0.5} \\\\\n",
    "\\frac{𝑋(𝑧)}{z}= \\frac{z+1}{(z+ 0.5 + 0.5j)(z+ 0.5 - 0.5j)} \\\\\n",
    "\\frac{𝑋(𝑧)}{z}= \\frac{z+0.5 + 0.5}{(z+ 0.5)^2 + 0.5^2} \\\\\n",
    "\\frac{𝑋(𝑧)}{z}= \\frac{z+0.5 }{(z+ 0.5)^2 + 0.5^2} + \\frac{0.5}{(z+ 0.5)^2 + 0.5^2} \\\\\n",
    "$$\n",
    "\n",
    "*Determinando a Transformada Inversa das tabelas de Transformada-Z*\n",
    "\n",
    "$$\n",
    "L^{-1}[\\frac{𝑋(𝑧)}{z}] = e^{0.5n}cos(0.5n) + e^{0.5n}sen(0.5n) \\\\\n",
    "L^{-1}[\\frac{𝑋(𝑧)}{z}] = e^{0.5n}[cos(0.5n) + sen(0.5n)] \\\\\n",
    "L^{-1}[𝑋(𝑧)] = x[n] = e^{0.5(n-1)}[cos(0.5(n-1)) + sen(0.5(n-1))] \\\\\n",
    "$$\n",
    "\n",
    "**10) Qual o período fundamental do sinal $𝑥[𝑛]=𝑐𝑜𝑠(\\frac{7𝜋}{15}𝑛)$?**\n",
    "\n",
    "**Solução:**\n",
    "\n",
    "*$w_m = \\frac{7𝜋}{15} \\Rightarrow w_m = mw_0 \\Rightarrow \\frac{7𝜋}{15} = m\\frac{2𝜋}{N} \\Rightarrow N = m\\frac{30}{7}$* \n",
    "\n",
    "*para m = 7, tem-se o menor N = 30*\n",
    "\n"
   ]
  },
  {
   "cell_type": "code",
   "execution_count": 7,
   "metadata": {},
   "outputs": [
    {
     "name": "stdout",
     "output_type": "stream",
     "text": [
      "(2+0j)\n",
      "(0.6666666666666667-0.6666666666666666j)\n",
      "(0.6666666666666666+0j)\n",
      "(0.6666666666666667+0.6666666666666666j)\n"
     ]
    }
   ],
   "source": [
    "import numpy as np\n",
    "\n",
    "x = np.array([1, 2/3, 1/3, 0])\n",
    "#x = np.array([1, 2, 3, 4])\n",
    "X = np.fft.fft(x)\n",
    "for c in X:\n",
    "    print(c)"
   ]
  },
  {
   "cell_type": "code",
   "execution_count": 3,
   "metadata": {},
   "outputs": [
    {
     "data": {
      "text/plain": [
       "1.3333333333333333"
      ]
     },
     "execution_count": 3,
     "metadata": {},
     "output_type": "execute_result"
    }
   ],
   "source": [
    "4/3"
   ]
  },
  {
   "cell_type": "code",
   "execution_count": 17,
   "metadata": {},
   "outputs": [
    {
     "data": {
      "text/plain": [
       "-1j"
      ]
     },
     "execution_count": 17,
     "metadata": {},
     "output_type": "execute_result"
    }
   ],
   "source": [
    "(-1j)**9"
   ]
  },
  {
   "cell_type": "code",
   "execution_count": 30,
   "metadata": {},
   "outputs": [
    {
     "name": "stdout",
     "output_type": "stream",
     "text": [
      "H(z):\t\t\t\t [1. 1.] [1.  1.  0.5]\n",
      "Resíduos:\t\t\t [0.5-0.5j 0.5+0.5j]\n",
      "Polos de H(z)/z:\t\t [-0.5+0.5j -0.5-0.5j]\n",
      "Termo(s) Independente(s):\t []\n",
      "Expandido em Frações Parciais:\t\n",
      "H(z)/z = (0.5-0.5000000000000002j) / ( z  - (-0.4999999999999999+0.49999999999999994j) )(0.5+0.5000000000000002j) / ( z  - (-0.4999999999999999-0.49999999999999994j) )\n"
     ]
    }
   ],
   "source": [
    "from numpy import array\n",
    "from scipy.signal import residue, convolve\n",
    "num = array([1., 1])                              \n",
    "den = array([1.0,1., 1/2])\n",
    "print (\"H(z):\\t\\t\\t\\t\", num, den)\n",
    "c,p,k = residue(num,den)\n",
    "print (\"Resíduos:\\t\\t\\t\", c)\n",
    "print (\"Polos de H(z)/z:\\t\\t\", p)\n",
    "print (\"Termo(s) Independente(s):\\t\", k)\n",
    "print (\"Expandido em Frações Parciais:\\t\",)\n",
    "H_z = 'H(z)/z = '\n",
    "for i in range(len(p)):\n",
    "    if p[i] == 0:\n",
    "        H_z = H_z + \"%.2f/z\" % c[i]\n",
    "    else:\n",
    "        H_z = H_z + format(complex(c[i])) + \" / ( z  - \" + format(complex(p[i])) + \" )\" #\"%+.2f/(z%+.2f)\" % (c[i],-p[i])\n",
    "print (H_z)"
   ]
  },
  {
   "cell_type": "code",
   "execution_count": 15,
   "metadata": {},
   "outputs": [],
   "source": [
    "import numpy as np\n",
    "def U_(n, n0):\n",
    "    u = np.zeros(n.shape)\n",
    "    u[ n >= n0] = 1.\n",
    "    return u"
   ]
  },
  {
   "cell_type": "code",
   "execution_count": 28,
   "metadata": {},
   "outputs": [
    {
     "data": {
      "image/png": "[encoded data removed]",
      "text/plain": [
       "<Figure size 1600x400 with 1 Axes>"
      ]
     },
     "metadata": {
      "needs_background": "light"
     },
     "output_type": "display_data"
    }
   ],
   "source": [
    "import matplotlib.pyplot as plt\n",
    " # base de tempo\n",
    "n = np.arange(-10, 10)\n",
    "u1 = U_(n, 0)\n",
    "u2 = U_(n, 4)\n",
    "u3 = U_(n, -4)\n",
    "\n",
    "u = 2*u1 - u2 - u3\n",
    "\n",
    "plt.figure(figsize=(20, 5), dpi=80)\n",
    "plt.xticks(n)\n",
    "plt.yticks(u)\n",
    "plt.xlabel(\"Tempo n\")\n",
    "plt.ylabel('Saída')\n",
    "plt.stem(n, u, 'b')\n",
    "\n",
    "plt.grid()"
   ]
  },
  {
   "cell_type": "code",
   "execution_count": null,
   "metadata": {},
   "outputs": [],
   "source": []
  }
 ],
 "metadata": {
  "kernelspec": {
   "display_name": "Python 3",
   "language": "python",
   "name": "python3"
  },
  "language_info": {
   "codemirror_mode": {
    "name": "ipython",
    "version": 3
   },
   "file_extension": ".py",
   "mimetype": "text/x-python",
   "name": "python",
   "nbconvert_exporter": "python",
   "pygments_lexer": "ipython3",
   "version": "3.8.5"
  }
 },
 "nbformat": 4,
 "nbformat_minor": 4
}
