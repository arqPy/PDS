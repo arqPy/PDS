{
  "cells": [
    {
      "cell_type": "markdown",
      "metadata": {
        "id": "view-in-github",
        "colab_type": "text"
      },
      "source": [
        "<a href=\"https://colab.research.google.com/github/arqPy/PDS/blob/main/Transformada_Z.ipynb\" target=\"_parent\"><img src=\"https://colab.research.google.com/assets/colab-badge.svg\" alt=\"Open In Colab\"/></a>"
      ]
    },
    {
      "cell_type": "code",
      "execution_count": null,
      "metadata": {
        "colab": {
          "base_uri": "https://localhost:8080/"
        },
        "id": "V2u-GXrSIdAk",
        "outputId": "4cbd0d70-9d61-49df-bd3f-949c53124e0d"
      },
      "outputs": [
        {
          "name": "stdout",
          "output_type": "stream",
          "text": [
            "f[n]: \n",
            " n\n",
            "a \n",
            "\n",
            " F[z] desde sumatoria:\n",
            "⎛   1     │a│    ⎞\n",
            "⎜───────, │─│ < 1⎟\n",
            "⎜  a      │z│    ⎟\n",
            "⎜- ─ + 1         ⎟\n",
            "⎝  z             ⎠\n",
            "\n",
            " F[z] simplificada\n",
            "  z   \n",
            "──────\n",
            "-a + z\n",
            "\n",
            " ROC: \n",
            "│a│    \n",
            "│─│ < 1\n",
            "│z│    \n",
            "\n",
            " {Q_polos:veces}: {a: 1}\n",
            " {P_ceros:veces}: {0: 1}\n"
          ]
        }
      ],
      "source": [
        "# transformada z de x[n]u[n]\n",
        "import sympy as sym\n",
        "\n",
        "# INGRESO\n",
        "z = sym.symbols('z')\n",
        "n = sym.symbols('n', positive=True)\n",
        "a = sym.symbols('a')\n",
        "u = sym.Heaviside(n)\n",
        "\n",
        "fn = (a**n)*u\n",
        "\n",
        "# valor a como racional en dominio 'ZZ' enteros\n",
        "a_k = sym.Rational(1/2).limit_denominator(100)\n",
        "m   = 7        # Términos a graficar\n",
        "muestras = 101 # dominio z\n",
        "\n",
        "# PROCEDIMIENTO\n",
        "fnz = fn*(z**(-n)) # f(n,z) para sumatoria\n",
        "# sumatoria transformada z\n",
        "Fz_sum = sym.summation(fnz,(n,0,sym.oo))\n",
        "Fz_eq  = Fz_sum.args[0]  # primera ecuacion e intervalo\n",
        "Fz = Fz_eq[0].simplify() # solo expresion\n",
        "\n",
        "ROC = Fz_eq[1]  # condicion ROC\n",
        "\n",
        "# polos y ceros de Fz\n",
        "[P,Q] = Fz.as_numer_denom()\n",
        "P = sym.poly(P,z)\n",
        "Q = sym.poly(Q,z)\n",
        "P_ceros = sym.roots(P)\n",
        "Q_polos = sym.roots(Q)\n",
        "\n",
        "# SALIDA\n",
        "print('f[n]: ')\n",
        "sym.pprint(fn)\n",
        "print('\\n F[z] desde sumatoria:')\n",
        "sym.pprint(Fz_eq)\n",
        "print('\\n F[z] simplificada')\n",
        "sym.pprint(Fz)\n",
        "print('\\n ROC: ')\n",
        "sym.pprint(ROC)\n",
        "print('\\n {Q_polos:veces}:',Q_polos)\n",
        "print(' {P_ceros:veces}:',P_ceros)"
      ]
    },
    {
      "cell_type": "code",
      "execution_count": null,
      "metadata": {
        "id": "UpnGBTugIhsK"
      },
      "outputs": [],
      "source": [
        "import scipy.signal as sgn\n",
        "import numpy as np"
      ]
    },
    {
      "cell_type": "code",
      "execution_count": null,
      "metadata": {
        "colab": {
          "base_uri": "https://localhost:8080/"
        },
        "id": "pZ2orPVvCmoM",
        "outputId": "56048661-826b-4656-fed4-57bd23f1572e"
      },
      "outputs": [
        {
          "data": {
            "text/plain": [
              "array([ 0,  1,  3,  6, 10, 15, 15, 15, 15, 15, 15, 15, 15, 14, 12,  9,  5])"
            ]
          },
          "execution_count": 10,
          "metadata": {},
          "output_type": "execute_result"
        }
      ],
      "source": [
        "\n",
        "a = np.convolve([0,1,2,3,4,5],[1, 1, 1, 1, 1, 1, 1, 1, 1, 1, 1, 1]) # [1, 0,0,0,0,0]\n",
        "\n",
        "a"
      ]
    },
    {
      "cell_type": "code",
      "execution_count": null,
      "metadata": {
        "colab": {
          "base_uri": "https://localhost:8080/"
        },
        "id": "pmqYH_GDIyFk",
        "outputId": "cb8f429a-546c-4556-91fd-5e88de240f56"
      },
      "outputs": [
        {
          "name": "stdout",
          "output_type": "stream",
          "text": [
            "[  8. -12.] [-2. -4.] []\n"
          ]
        }
      ],
      "source": [
        "b = [-4, 8 ]\n",
        "a = [1, 6, 8]\n",
        "[r,p,k] = sgn.residue(b, a)\n",
        "print(r, p, k)"
      ]
    },
    {
      "cell_type": "code",
      "execution_count": null,
      "metadata": {
        "colab": {
          "base_uri": "https://localhost:8080/"
        },
        "id": "qZf5ugi3GnSo",
        "outputId": "681475f0-935d-4c50-e3b3-58ed5ca75cad"
      },
      "outputs": [
        {
          "output_type": "stream",
          "name": "stdout",
          "text": [
            "Resíduos\n",
            " [ 1.50000000e+01-0.j  1.40000000e+01-0.j  1.20000000e+01-0.j\n",
            "  9.00000000e+00-0.j  5.00000000e+00-0.j -1.50000000e+01+0.j\n",
            "  6.21724894e-15+0.j  0.00000000e+00+0.j]\n",
            "Polos\n",
            " [0.+0.j 0.+0.j 0.+0.j 0.+0.j 0.+0.j 1.+0.j 1.+0.j 1.+0.j]\n",
            "[]\n"
          ]
        }
      ],
      "source": [
        "b = [ -1, 0, 0, 0, 0, 6,-5 ]\n",
        "a = np.polymul([1,-1], [1, -1])\n",
        "a = np.polymul([1, -1], a)\n",
        "a = np.polymul([1, 0,0,0,0,0], a)\n",
        "[r,p,k] = sgn.residue(b, a)\n",
        "print(\"Resíduos\\n\", r)\n",
        "print(\"Polos\\n\", p)\n",
        "print(k)"
      ]
    },
    {
      "cell_type": "markdown",
      "source": [
        "$$y[n] = x[n]*g[n]$$\n",
        "\n",
        "$$Y(z) = \\frac{-z^6 + 6z - 5}{z^5(z - 1)^3}$$\n",
        "\n",
        "$$\n",
        "H(z) = 15z^{-1} + 14z^{-2} + 12z^{-3} + 9z^{-4} + 5z^{-5} - \\frac{15}{z - 1} + 0 + 0\n",
        "$$\n",
        "\n",
        "$$h[n] = 15\\delta{[n-1]} + 14\\delta{[n-2]} + 12\\delta{[n-3]} + 9\\delta{[n-4]} + 5\\delta{[n-5]} + 15u[-n]$$"
      ],
      "metadata": {
        "id": "GUYrgsRYJLCC"
      }
    },
    {
      "cell_type": "code",
      "source": [
        "b = [ 2, -11, 12 ]\n",
        "a = np.polymul([1,-1], [1, -2])\n",
        "a = np.polymul([1, -2], a)\n",
        "a = np.polymul([1, -2], a)\n",
        "[r,p,k] = sgn.residue(b, a)\n",
        "print(\"Resíduos\\n\", r)\n",
        "print(\"Polos\\n\", p)\n",
        "print(k)"
      ],
      "metadata": {
        "colab": {
          "base_uri": "https://localhost:8080/"
        },
        "id": "YFYxcKFIC_Mm",
        "outputId": "1209b0f6-e82c-4552-947e-4543180c811c"
      },
      "execution_count": null,
      "outputs": [
        {
          "output_type": "stream",
          "name": "stdout",
          "text": [
            "Resíduos\n",
            " [-3.+0.j  3.+0.j -1.+0.j -2.+0.j]\n",
            "Polos\n",
            " [1.+0.j 2.+0.j 2.+0.j 2.+0.j]\n",
            "[]\n"
          ]
        }
      ]
    },
    {
      "cell_type": "code",
      "execution_count": null,
      "metadata": {
        "id": "_MyXsTFLKnTe",
        "colab": {
          "base_uri": "https://localhost:8080/"
        },
        "outputId": "e232cdce-29dd-4d1c-e2cf-fd3398c2a85a"
      },
      "outputs": [
        {
          "output_type": "stream",
          "name": "stdout",
          "text": [
            "[-8. -2. -1.]\n",
            "[ 1. 11. 26. 16.]\n",
            "[  1  16  83 164  96]\n"
          ]
        }
      ],
      "source": [
        "n = np.array([1, 11, 26, 16]) # definindo um polinômio de terceiro grau\n",
        "#n = 1 11 26 16\n",
        "raizes = np.roots(n)\n",
        "print(raizes) # -8. -2. -1.\n",
        "print(np.poly(raizes)) # polinômio a partir das raízes\n",
        "n = [1, 8, 19, 12]\n",
        "print(np.convolve(n,[1, 8])) # multiplicação polinomial"
      ]
    },
    {
      "cell_type": "code",
      "source": [
        "from numpy import *\n",
        "from scipy.signal import *\n",
        "\n",
        "num = array([1, 1])\n",
        "den = convolve(array([1,0]),array([1,2]))\n",
        "# ou: den = array([1,2,0]) # z^2 + 2z = z.(z+2)\n",
        "r, p, k = residue(num,den)\n",
        "print(r, p, k)\n",
        "#[ 0.5 0.5] [-2. 0.] [ 0.]\n"
      ],
      "metadata": {
        "colab": {
          "base_uri": "https://localhost:8080/"
        },
        "id": "kR29dfb1D1xh",
        "outputId": "734f08df-47e2-4540-b33e-d4f34523d19b"
      },
      "execution_count": null,
      "outputs": [
        {
          "output_type": "stream",
          "name": "stdout",
          "text": [
            "[0.5 0.5] [ 0. -2.] []\n"
          ]
        }
      ]
    },
    {
      "cell_type": "code",
      "execution_count": null,
      "metadata": {
        "id": "uppqfH-0eDth",
        "colab": {
          "base_uri": "https://localhost:8080/"
        },
        "outputId": "b874f1a3-cc2b-4910-ebca-b1de497458b1"
      },
      "outputs": [
        {
          "output_type": "stream",
          "name": "stdout",
          "text": [
            "[-0.25  0.5   1.25] [ 0.  0. -2.] []\n"
          ]
        }
      ],
      "source": [
        "# Raizes Reais Repetidas\n",
        "num = array([1, 0, 1])\n",
        "den = poly([0, 0, -2])\n",
        "r, p, k = residue(num,den)\n",
        "print(r, p, k)\n",
        "#[ 1.25 -0.25 0.5 ] [-2. 0. 0.] [ 0.]"
      ]
    },
    {
      "cell_type": "code",
      "source": [
        "# Ordem do Numerador maior ou igual a ordem do Denominador\n",
        "num = array([3,2,3])\n",
        "den = array([1,3,2])\n",
        "r, p, k = residue(num,den)\n",
        "print (r, p, k)\n",
        "#[-11. 4.] [-2. -1.] [ 3.]"
      ],
      "metadata": {
        "colab": {
          "base_uri": "https://localhost:8080/"
        },
        "id": "E2RcxnzBE7Nj",
        "outputId": "24d1ab7e-683b-43ad-e185-3bbc8c81cbd8"
      },
      "execution_count": null,
      "outputs": [
        {
          "output_type": "stream",
          "name": "stdout",
          "text": [
            "[  4. -11.] [-1. -2.] [3.]\n"
          ]
        }
      ]
    },
    {
      "cell_type": "code",
      "source": [
        "# Raízes Complexas Conjugadas\n",
        "num = array([5,8,-5])\n",
        "den = convolve(array([1,0,0]), array([1,2,5]))\n",
        "r, p, k = residue(num,den)\n",
        "print (r, p, k)\n",
        "#[ 2.+0.j -1.+0.j -1.-1.j -1.+1.j] [ 0.+0.j 0.+0.j -1.+2.j -1.-2.j] [ 0.]"
      ],
      "metadata": {
        "colab": {
          "base_uri": "https://localhost:8080/"
        },
        "id": "KOez4cOSFYnc",
        "outputId": "de77b75a-48ef-45f7-d46d-f449cbcc8d96"
      },
      "execution_count": null,
      "outputs": [
        {
          "output_type": "stream",
          "name": "stdout",
          "text": [
            "[ 2.+0.j -1.+0.j -1.-1.j -1.+1.j] [ 0.+0.j  0.+0.j -1.+2.j -1.-2.j] []\n"
          ]
        }
      ]
    },
    {
      "cell_type": "code",
      "source": [
        "import numpy as np\n",
        "import matplotlib.pylab as plt\n",
        "n = np.arange(1,6)\n",
        "x1 = 3.*2**(n-1) + 5.*3**(n-1); x1[0] = 0\n",
        "x2 = (3.*2**n)/2. + (5.*3**n)/3.; x2[0] = x2[0] - 19./6\n",
        "marker, stemline, base = plt.stem(n,x1,'b:'); plt.grid('on')\n",
        "plt.setp(stemline, linewidth=5)\n",
        "marker, stemline, base = plt.stem(n,x2,'r')\n",
        "plt.setp(stemline, linewidth=2)\n",
        "plt.legend(loc='upper right') #'x1[n]','x2[n]')\n",
        "plt.xlabel('n'); plt.title('Exemplo 1'); plt.xlim(-1., 6.0)"
      ],
      "metadata": {
        "id": "lZvL5J5hFrBk",
        "colab": {
          "base_uri": "https://localhost:8080/",
          "height": 528
        },
        "outputId": "eccf5ee3-c34e-4e3b-faa2-bcb3b2a04163"
      },
      "execution_count": null,
      "outputs": [
        {
          "output_type": "stream",
          "name": "stderr",
          "text": [
            "WARNING:matplotlib.legend:No artists with labels found to put in legend.  Note that artists whose label start with an underscore are ignored when legend() is called with no argument.\n"
          ]
        },
        {
          "output_type": "execute_result",
          "data": {
            "text/plain": [
              "(-1.0, 6.0)"
            ]
          },
          "metadata": {},
          "execution_count": 6
        },
        {
          "output_type": "display_data",
          "data": {
            "text/plain": [
              "<Figure size 640x480 with 1 Axes>"
            ],
            "image/png": "[encoded data removed]"
          },
          "metadata": {}
        }
      ]
    },
    {
      "cell_type": "code",
      "source": [
        "def u(n, n0=0):\n",
        "  u1 = np.zeros(len(n))     # todas amostras zero\n",
        "  u1[n >= n0] = 1.          # amostras UM\n",
        "  return u1\n",
        "\n",
        "def rampa(n, Li=0, W=5, n0=0):\n",
        "  '''\n",
        "  n: tempo discreto\n",
        "  n0: deslocamento\n",
        "  '''\n",
        "  Ls = Li + W + 1\n",
        "  x = (n - n0)*(u(n, Li+n0) - u(n, Ls+n0))\n",
        "  return x\n",
        "\n"
      ],
      "metadata": {
        "id": "vTqJz54K_ovk"
      },
      "execution_count": null,
      "outputs": []
    },
    {
      "cell_type": "code",
      "source": [
        "import numpy as np\n",
        "import matplotlib.pylab as plt\n",
        "n = np.arange(-10,10)\n",
        "\n",
        "Li, W = 0, 5\n",
        "x = rampa(n, Li, W)\n",
        "g = u(-n)\n",
        "\n",
        "plt.subplots(figsize=(8,8));         # estipula espaço físico para os gráficos\n",
        "\n",
        "tit = \"$x[n] = n\\{u[n]- u[n-6]\\}$ \"\n",
        "plt.subplot(511)\n",
        "plt.stem(n,x,'g')\n",
        "plt.title(tit)\n",
        "plt.grid('on')\n",
        "\n",
        "plt.subplot(512)\n",
        "plt.stem(n,g, 'b')\n",
        "plt.title(\"$g[n] = u[-n]$\")\n",
        "plt.grid('on')\n",
        "\n",
        "\n",
        "\n",
        "#Inversão e deslocamento\n",
        "n0 = 2\n",
        "x2 = rampa(-n, Li, W, n0)\n",
        "\n",
        "plt.subplot(513)\n",
        "plt.stem(n,x2, 'g')\n",
        "plt.plot(n, g, 'bo')\n",
        "plt.title(\"$x[n]*g[n]$\")\n",
        "plt.text(5,2,\"$n = -2$\")\n",
        "plt.grid('on')\n",
        "\n",
        "n0 = -2\n",
        "x2 = rampa(-n, Li, W, n0)\n",
        "\n",
        "plt.subplot(514)\n",
        "plt.stem(n,x2, 'g')\n",
        "plt.plot(n, g, 'bo')\n",
        "plt.grid('on')\n",
        "\n",
        "n0 = -5\n",
        "x2 = rampa(-n, Li, W, n0)\n",
        "\n",
        "plt.subplot(515)\n",
        "plt.stem(n,x2, 'g')\n",
        "plt.plot(n, g, 'bo')\n",
        "plt.grid('on')\n",
        "\n",
        "plt.tight_layout()\n"
      ],
      "metadata": {
        "colab": {
          "base_uri": "https://localhost:8080/",
          "height": 862
        },
        "id": "b6qZ9OsH_gd1",
        "outputId": "3c635389-58dc-4323-e167-4c958f7808fa"
      },
      "execution_count": null,
      "outputs": [
        {
          "output_type": "stream",
          "name": "stderr",
          "text": [
            "<ipython-input-11-6ef670a39139>:12: MatplotlibDeprecationWarning: Auto-removal of overlapping axes is deprecated since 3.6 and will be removed two minor releases later; explicitly call ax.remove() as needed.\n",
            "  plt.subplot(511)\n"
          ]
        },
        {
          "output_type": "display_data",
          "data": {
            "text/plain": [
              "<Figure size 800x800 with 5 Axes>"
            ],
            "image/png": "[encoded data removed]"
          },
          "metadata": {}
        }
      ]
    },
    {
      "cell_type": "code",
      "source": [],
      "metadata": {
        "id": "OpvlGEpO1DC6"
      },
      "execution_count": null,
      "outputs": []
    }
  ],
  "metadata": {
    "colab": {
      "provenance": [],
      "authorship_tag": "ABX9TyNHZsp5GYQzel+d6n0uSFN9",
      "include_colab_link": true
    },
    "kernelspec": {
      "display_name": "Python 3",
      "name": "python3"
    },
    "language_info": {
      "name": "python"
    }
  },
  "nbformat": 4,
  "nbformat_minor": 0
}