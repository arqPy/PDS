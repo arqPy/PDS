{
  "nbformat": 4,
  "nbformat_minor": 0,
  "metadata": {
    "colab": {
      "provenance": [],
      "authorship_tag": "ABX9TyOx+rGiFacqOVAtF7Jj6HXM",
      "include_colab_link": true
    },
    "kernelspec": {
      "name": "python3",
      "display_name": "Python 3"
    }
  },
  "cells": [
    {
      "cell_type": "markdown",
      "metadata": {
        "id": "view-in-github",
        "colab_type": "text"
      },
      "source": [
        "<a href=\"https://colab.research.google.com/github/arqPy/PDS/blob/main/Python_ERE_05.ipynb\" target=\"_parent\"><img src=\"https://colab.research.google.com/assets/colab-badge.svg\" alt=\"Open In Colab\"/></a>"
      ]
    },
    {
      "cell_type": "markdown",
      "metadata": {
        "id": "caUAgg3KCT0C"
      },
      "source": [
        "# Funções\n",
        "\n",
        "![](data:image/png;base64,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)\n",
        "\n",
        "\n",
        "\n",
        "![](http://www.ifg.edu.br/images/ifg/logo/logo-ifg-vertical.png)"
      ]
    },
    {
      "cell_type": "code",
      "metadata": {
        "id": "KRFEFGiGY4ck"
      },
      "source": [
        "def MDC(n1, n2):\n",
        "  r = n1 % n2\n",
        "  while (r != 0):\n",
        "    n1 = n2\n",
        "    n2 = r\n",
        "    r = n1 % n2\n",
        "  return n2"
      ],
      "execution_count": null,
      "outputs": []
    },
    {
      "cell_type": "markdown",
      "metadata": {
        "id": "k8i_rJMXZmp5"
      },
      "source": [
        "DIVISORES (25) = [1, 5, 25]\n",
        "\n",
        "DIVISORES (10) = [1, 2, 5, 10]"
      ]
    },
    {
      "cell_type": "code",
      "metadata": {
        "id": "cMNcPBMGh0Wo",
        "outputId": "b55b1793-ac9c-4e47-9586-09cdfcfa33c5",
        "colab": {
          "base_uri": "https://localhost:8080/",
          "height": 34
        }
      },
      "source": [
        "MDC(100, 40)"
      ],
      "execution_count": null,
      "outputs": [
        {
          "output_type": "execute_result",
          "data": {
            "text/plain": [
              "20"
            ]
          },
          "metadata": {
            "tags": []
          },
          "execution_count": 23
        }
      ]
    },
    {
      "cell_type": "code",
      "metadata": {
        "id": "vxU0258VZPRF",
        "outputId": "7b5d6f64-56b6-49a5-cddb-2e96b6c65ce2",
        "colab": {
          "base_uri": "https://localhost:8080/",
          "height": 34
        }
      },
      "source": [
        "25 % 10"
      ],
      "execution_count": null,
      "outputs": [
        {
          "output_type": "execute_result",
          "data": {
            "text/plain": [
              "5"
            ]
          },
          "metadata": {
            "tags": []
          },
          "execution_count": 6
        }
      ]
    },
    {
      "cell_type": "code",
      "metadata": {
        "id": "tKcRahS0aZQQ",
        "outputId": "b39deb3b-5be6-4dc8-bad6-859273497eb0",
        "colab": {
          "base_uri": "https://localhost:8080/",
          "height": 34
        }
      },
      "source": [
        "10 % 5"
      ],
      "execution_count": null,
      "outputs": [
        {
          "output_type": "execute_result",
          "data": {
            "text/plain": [
              "0"
            ]
          },
          "metadata": {
            "tags": []
          },
          "execution_count": 7
        }
      ]
    },
    {
      "cell_type": "markdown",
      "metadata": {
        "id": "CYUg8MIjMy4C"
      },
      "source": [
        "#  Listas"
      ]
    },
    {
      "cell_type": "markdown",
      "metadata": {
        "id": "Qi1BGVHfNKQU"
      },
      "source": [
        "# Listas: Percorrer uma lista\n",
        "\n",
        "Lista em Python é sequencia de objetos\n",
        "\n",
        "Em Python, listas de objetos são representadas pelo tipo list. Esse tipo de dados é basicamente uma sequência de elementos, que podem ou não ser do mesmo tipo.\n",
        "\n",
        "\n",
        "lista = [1, 2 + 3j, 2.4, \"Alô\"]\n",
        "\n",
        "lista_Vazia = []\n",
        "\n",
        "\n"
      ]
    },
    {
      "cell_type": "code",
      "metadata": {
        "id": "j0V0-FFRhh-v",
        "outputId": "405f3c39-3b6a-45ba-8437-f73aba082961",
        "colab": {
          "base_uri": "https://localhost:8080/",
          "height": 68
        }
      },
      "source": [
        "matriz = [[1, 2, 3], [4, 5, 6], [7, 8, 9]]\n",
        "print(type(matriz))\n",
        "linha1 = matriz[0]\n",
        "print(linha1)\n",
        "print(\"Matriz 3x3: \", matriz)"
      ],
      "execution_count": null,
      "outputs": [
        {
          "output_type": "stream",
          "text": [
            "<class 'list'>\n",
            "[1, 2, 3]\n",
            "Matriz 3x3:  [[1, 2, 3], [4, 5, 6], [7, 8, 9]]\n"
          ],
          "name": "stdout"
        }
      ]
    },
    {
      "cell_type": "code",
      "metadata": {
        "id": "etiZaxGQcOeB",
        "outputId": "cee7e9b0-8c3d-44b5-d9b3-9502ca254e6c",
        "colab": {
          "base_uri": "https://localhost:8080/",
          "height": 85
        }
      },
      "source": [
        "cont = 0\n",
        "while (cont < 3):\n",
        "  linha = matriz[cont]\n",
        "  print(linha)\n",
        "  cont = cont + 1\n",
        "print(\"Fim\")"
      ],
      "execution_count": null,
      "outputs": [
        {
          "output_type": "stream",
          "text": [
            "[1, 2, 3]\n",
            "[4, 5, 6]\n",
            "[7, 8, 9]\n",
            "Fim\n"
          ],
          "name": "stdout"
        }
      ]
    },
    {
      "cell_type": "code",
      "metadata": {
        "id": "1QdemVUKiaZL",
        "outputId": "99c4f1c0-49ea-4de6-b744-32b8284d80e9",
        "colab": {
          "base_uri": "https://localhost:8080/",
          "height": 68
        }
      },
      "source": [
        "for linha in matriz: # pythonic\n",
        "  print(linha)"
      ],
      "execution_count": null,
      "outputs": [
        {
          "output_type": "stream",
          "text": [
            "[1, 2, 3]\n",
            "[4, 5, 6]\n",
            "[7, 8, 9]\n"
          ],
          "name": "stdout"
        }
      ]
    },
    {
      "cell_type": "code",
      "metadata": {
        "id": "dfGorTr5c44y",
        "outputId": "84d787e3-a566-4dfe-96fc-662aad7bc765",
        "colab": {
          "base_uri": "https://localhost:8080/",
          "height": 34
        }
      },
      "source": [
        "matriz[-1] #último elemento"
      ],
      "execution_count": null,
      "outputs": [
        {
          "output_type": "execute_result",
          "data": {
            "text/plain": [
              "[7, 8, 9]"
            ]
          },
          "metadata": {
            "tags": []
          },
          "execution_count": 18
        }
      ]
    },
    {
      "cell_type": "code",
      "metadata": {
        "id": "IyByaz96go__",
        "outputId": "736aae1a-51e6-40a1-c55b-e9f37e41463c",
        "colab": {
          "base_uri": "https://localhost:8080/",
          "height": 34
        }
      },
      "source": [
        "matriz[-3]"
      ],
      "execution_count": null,
      "outputs": [
        {
          "output_type": "execute_result",
          "data": {
            "text/plain": [
              "[1, 2, 3]"
            ]
          },
          "metadata": {
            "tags": []
          },
          "execution_count": 20
        }
      ]
    },
    {
      "cell_type": "code",
      "metadata": {
        "id": "lAcV70_UjKv6",
        "outputId": "b74b9999-f918-4a67-cfae-c7bcce2a1dd0",
        "colab": {
          "base_uri": "https://localhost:8080/",
          "height": 34
        }
      },
      "source": [
        "lista_Resistores = [10, 20 , 30]\n",
        "sum(lista_Resistores)\n"
      ],
      "execution_count": null,
      "outputs": [
        {
          "output_type": "execute_result",
          "data": {
            "text/plain": [
              "60"
            ]
          },
          "metadata": {
            "tags": []
          },
          "execution_count": 26
        }
      ]
    },
    {
      "cell_type": "code",
      "metadata": {
        "id": "jRofn7nhjxMP"
      },
      "source": [
        "def Rserie(*R):\n",
        "  Req = 0\n",
        "  for r in R:\n",
        "    Req += r\n",
        "  return Req"
      ],
      "execution_count": null,
      "outputs": []
    },
    {
      "cell_type": "code",
      "metadata": {
        "id": "HmG0prkJkMeB",
        "outputId": "83710ea2-b285-4666-8f33-8e88101b6607",
        "colab": {
          "base_uri": "https://localhost:8080/",
          "height": 34
        }
      },
      "source": [
        "Rserie()"
      ],
      "execution_count": null,
      "outputs": [
        {
          "output_type": "execute_result",
          "data": {
            "text/plain": [
              "0"
            ]
          },
          "metadata": {
            "tags": []
          },
          "execution_count": 30
        }
      ]
    },
    {
      "cell_type": "markdown",
      "metadata": {
        "id": "07lDorPMklAW"
      },
      "source": [
        "# Desafio\n",
        "\n",
        "## Faça uma função que retorne a Req de resistores em paralelo"
      ]
    },
    {
      "cell_type": "markdown",
      "metadata": {
        "id": "apDeVRAUe4sg"
      },
      "source": [
        "# Referência\n",
        "\n",
        "https://jupyter.org/\n",
        "\n"
      ]
    }
  ]
}