{
  "cells": [
    {
      "cell_type": "markdown",
      "metadata": {
        "id": "view-in-github",
        "colab_type": "text"
      },
      "source": [
        "<a href=\"https://colab.research.google.com/github/arqPy/PDS/blob/main/Quest%C3%B5es_Transformada_Z.ipynb\" target=\"_parent\"><img src=\"https://colab.research.google.com/assets/colab-badge.svg\" alt=\"Open In Colab\"/></a>"
      ]
    },
    {
      "cell_type": "markdown",
      "source": [
        "\n",
        "\n",
        "---\n",
        "\n",
        "\n",
        "Dado a entrada $x[n] = u[-n-1] + \\frac{1}{2}^nu[n]$\n",
        " de um sistema causal, cuja saída é $Y(z) = \\frac{-\\frac{1}{2}z^{-1}}{(1-0.5z^{-1})(1+z^{-1})}$\n",
        "\n",
        "\n",
        "\n",
        "Marque a(s) resposta(s) correta(s).\n",
        "\n",
        "a) O RDC de Y(z) é $|z| > \\frac{1}{2}$\n",
        "\n",
        "b) O RDC de X(z) é $\\frac{1}{2} < |z| < 1$\n",
        "\n",
        "c) $y[n] = -\\frac{1}{3}(\\frac{1}{2})^nu[-n] + \\frac{1}{3}(-1)^nu[n]$\n",
        "\n",
        "d) O RDC de H(Z) é $ |z| > 1$\n",
        "\n",
        "**Solução:**\n",
        "\n",
        "a) $\\underline{Falsa}$. Pois os pólos de Y(z) são -1 e 0.5, a RDC de um sistema causal deve ser externo ao maior pólo em módulo, que neste caso é -1.\n",
        "\n",
        "b) $\\underline{Verdadeira}$. $X(z) = X_1(z) + X_2(z).$ Da tabela, $X_1(z) = - \\frac{1}{1-z^{-1}}$ para RDC:  |z| < 1 e $X_2(z) = \\frac{1}{1-0.5z^{-1}}$ para RDC:  |z| > 0.5. Logo o RDC de X(z) é  $\\frac{1}{2} < |z| < 1$\n",
        "\n",
        "c) $\\underline{Falsa}$. Expandindo em frações parciais: $Y(z)=\\frac{-0.5z}{(z-0.5)(z+1)} \\Rightarrow \\frac{Y(z)}{z}= \\frac{-0.5}{(z-0.5)(z+1)}$ resulta em resíduos $-\\frac{1}{3} \\ e \\   \\frac{1}{3}$, para os pólos 0.5 e -1, respectivamente. Então, $y[n] = -\\frac{1}{3}(\\frac{1}{2})^nu[n] + \\frac{1}{3}(-1)^nu[n]$\n",
        "\n",
        "d) $\\underline{Verdadeira}$. $H(z) = \\frac{Y(z)}{X(z)}$. Basta multiplicar Y(z) pelo inverso de X(z). Então, $H(z) = \\frac{-\\frac{1}{2}z^{-1}}{(1-0.5z^{-1})(1+z^{-1})} \\frac{(1-z^{-1})(z-0.5z^{-1})}{-\\frac{1}{2}z^{-1}}$\n",
        "\n",
        "$\\therefore H(z) = \\frac{1-z^{-1}}{1+z^{-1}} $ Como o sistema é causal , RDC de H(z) é |z| > 1\n",
        "\n",
        "\n",
        "\n",
        "---\n",
        "\n",
        "\n",
        "\n"
      ],
      "metadata": {
        "id": "JpjxZjcYul0P"
      }
    },
    {
      "cell_type": "markdown",
      "source": [
        "\n",
        "\n",
        "---\n",
        "\n",
        "\n",
        "Dado o gráfico\n",
        "\n",
        "<p align=\"center\">\n",
        "  <img width=\"350\" src=\"https://github.com/arqPy/PDS/blob/main/PDS/img/porta.png?raw=true\">\n",
        "</p>\n",
        "\n",
        "\n",
        "\n",
        "\n",
        "\n",
        "Marque a(s) resposta(s) correta(s).\n",
        "\n",
        "a) $x[n] = \\delta{[n-4]} + \\delta{[n-5]} + ... + \\delta{[n-10]}$\n",
        "\n",
        "b) $X(z) = \\frac{z}{z-1}(z^{-4} - z^{-10})$\n",
        "\n",
        "c) $X(z) = \\frac{z^6 - 1}{z^9(z-1)}$\n",
        "\n",
        "**Solução**\n",
        "\n",
        "a) $\\underline{Falsa}$. $x[n] = \\delta{[n-4]} + \\delta{[n-5]} + ... + \\delta{[n-9]}$\n",
        "\n",
        "b) $\\underline{Verdadeira}$.\n",
        "\n",
        "c) $\\underline{Verdadeira}$.\n",
        "\n",
        "<p align=\"center\">\n",
        "  <img width=\"350\" src=\"https://github.com/arqPy/PDS/blob/main/PDS/img/X_z_02.jpeg?raw=true\">\n",
        "</p>\n",
        "\n",
        "\n",
        "\n",
        "---\n",
        "\n"
      ],
      "metadata": {
        "id": "YgvOwmPYZwYs"
      }
    },
    {
      "cell_type": "markdown",
      "source": [
        "\n",
        "---\n",
        "\n",
        "\n",
        "Dado $x[n]= a^ncos(n\\pi)u[n]$. Marque a(s) resposta(s) correta(s).\n",
        "\n",
        "a) $X(z) = \\frac{z}{z+a}$\n",
        "\n",
        "b) $X(z) = -\\frac{z}{z-a}$\n",
        "\n",
        "c) $X(z) = \\frac{1}{z+a}$\n",
        "\n",
        "**Solução:**\n",
        "\n",
        "<p align=\"center\">\n",
        "  <img width=\"350\" src=\"https://github.com/arqPy/PDS/blob/main/PDS/img/X_z_01.jpeg?raw=true\">\n",
        "</p>\n",
        "\n",
        "---\n"
      ],
      "metadata": {
        "id": "5xOOIaGl1Hcr"
      }
    },
    {
      "cell_type": "markdown",
      "source": [
        "Dado as seguintes sequencias:\n",
        "\n",
        "\n",
        "\n",
        "$x_1[n] = [6, 7, 4, 3, 2, 1, 0, 6, 9, 1, -2, 2] $\n",
        "\n",
        "\n",
        "\n",
        "$x_2[n] = -a^nu[-n-1], |a| < 1 $\n",
        "\n",
        "\n",
        "Marque a(s) alternativa(s) correta(s).\n",
        "\n",
        "a) $X_1(z) = \\frac{z^{-1}}{z + 2}$\n",
        "\n",
        "b) $ X_2(z) = \\frac{1}{1 - az^{-1}}$\n",
        "\n",
        "c) RDC de $ X_1(z) : 0 < |z| < \\infty $\n",
        "\n",
        "d) RDC de $X_2(z) : |z| < a$\n",
        "\n",
        "**Solução**\n",
        "\n",
        "a) $\\underline{Falsa}$. $X_1(z) = \\sum_{n=n_1}^{n_1+11}x_1[n]z^{-n}$\n",
        "\n",
        "b) $\\underline{Verdadeira}$. sequencia lateral esquerda\n",
        "\n",
        "c) $\\underline{Verdadeira}$. A RDC de um sinal de duração finita é todo o plano-Z com exceção de zero e infinito\n",
        "\n",
        "d) $\\underline{Verdadeira}$.\n",
        "\n"
      ],
      "metadata": {
        "id": "S7b0nRFm2Nuh"
      }
    },
    {
      "cell_type": "markdown",
      "source": [
        "\n",
        "\n",
        "---\n",
        "\n",
        "\n",
        "Dada a seguinte equação de diferença:\n",
        "\n",
        "\n",
        "\n",
        "$y[n + 2] + 6y[n] - 5y[n+1]= 5x[n] + 3x[n+1]$\n",
        "\n",
        "\n",
        " com as seguintes condições iniciais: y[0] = 3 e y[1] = 7,\n",
        "$x[n] = (0.5)^nu[n] $, x[0]=1 e x[1]=0.5\n",
        "\n",
        "Marque a(s) alternativa(s) corretas.\n",
        "\n",
        "a) $(z^2 - 5z + 6)Y(z) = (3z + 5)X(z) + 3z^2 -11z$\n",
        "\n",
        "b) $(z^2 - 5z + 6)Y(z) = (3z + 5)\\frac{z}{z - 0.5} + 3z^2 -11z$\n",
        "\n",
        "c) A FT do sistema seria: $H(z) = \\frac{3z^2 + 5z}{(z - 0.5)(z^2 - 5z + 6)}$. Considere condições iniciais nulas.\n",
        "\n",
        "d) Os pólos de H(Z) seria 0.5, 2 e 3. Considere condições iniciais nulas.\n",
        "\n",
        "**Solução**\n",
        "\n",
        "*Todas alternativas Verdadeiras.*\n",
        "\n",
        "<p align=\"center\">\n",
        "  <img width=\"350\" src=\"https://drive.google.com/uc?id=1VzrIXOksiyVoUnvYGkKgqGSdKxui6ut5\">\n",
        "</p>\n",
        "\n",
        "\n",
        "\n",
        "---\n",
        "\n"
      ],
      "metadata": {
        "id": "-9HR6LZ93FuK"
      }
    },
    {
      "cell_type": "markdown",
      "source": [
        "\n",
        "\n",
        "---\n",
        "Dado $X(z) = \\frac{z^2}{(z-1)(z-2)}$.\n",
        "\n",
        "\n",
        "\n",
        "Marque a(s) alternativa(s) correta(s).\n",
        "\n",
        "\n",
        "\n",
        "\n",
        "\n",
        "a) $x[n] = [\\underline{1}, 3, 7, 15 , ...]$\n",
        "\n",
        "b) RDC de X(z): |z| > 1\n",
        "\n",
        "c) RDC de X(z): |z| > 2\n",
        "\n",
        "d) $x[n] = 2^n - 1$\n",
        "\n",
        "**Solução**\n",
        "\n",
        "*Alternativas Verdadeiras: (a) e (c)*\n",
        "\n",
        "<p align=\"center\">\n",
        "  <img width=\"350\" src=\"https://drive.google.com/uc?id=1VZw8dEonG82bDE64DL177xJa4r4dU8VA\">\n",
        "</p>\n",
        "\n",
        "\n",
        "---"
      ],
      "metadata": {
        "id": "nULw9aJW6OO-"
      }
    },
    {
      "cell_type": "markdown",
      "source": [
        "\n",
        "\n",
        "---\n",
        "\n",
        "\n",
        "Dado o seguinte sinal discreto: $$x[n] = (0.5)^nu[n] + (\\frac{-1}{3})^nu[n]$$.\n",
        "\n",
        "\n",
        "\n",
        "Marque a(s) alternativa(s) correta(s).\n",
        "\n",
        "a) RDC de X(z) é  $| z | < \\frac{1}{3}$ (menor que um terço)\n",
        "\n",
        "b) RDC de X(z) é  $| z | > \\frac{1}{2}$ (maior que um meio)\n",
        "\n",
        "c) $X(z) = \\frac{2z^2 + \\frac{1}{6}z}{(z-0.5)(z+ \\frac{1}{3})}$\n",
        "\n",
        "d) $X(z) = \\frac{2z(z - \\frac{1}{12})}{(z-0.5)(z+\\frac{1}{3})}$\n",
        "\n",
        "e) RDC de X(z) é  $| z | > \\frac{1}{3}$ (maior que um terço)\n",
        "\n",
        "**Solução**\n",
        "\n",
        "*Alternativas Verdadeiras: (b) e (d)*\n",
        "\n",
        "\n",
        "\n",
        "<p align=\"center\">\n",
        "  <img width=\"350\" src=\"https://drive.google.com/uc?id=1VWUIWYsaLqlQTNvzBVeen2TKQ8K18Z2N\">\n",
        "</p>\n",
        "\n",
        "\n",
        "---"
      ],
      "metadata": {
        "id": "tuCFP5g57U_T"
      }
    },
    {
      "cell_type": "markdown",
      "source": [
        "\n",
        "\n",
        "---\n",
        "Dado $X(z) = \\frac{\\frac{3}{8}z^{-2} - \\frac{9}{2}z^{-1} + 3}{(1 + \\frac{1}{4}z^{-1})(1 - \\frac{1}{2}z^{-1})(1 2z^{-1})}$\n",
        "\n",
        "\n",
        "\n",
        "Marque a(s) alternativa(s) correta(s)\n",
        "\n",
        "a) Sendo RDC de X(z): $|z| < \\frac{1}{4}.$ Então, $ x[n] = - (\\frac{-1}{4})^nu[-n-1] - (\\frac{1}{2})^nu[-n-1] - 2^nu[-n-1]$\n",
        "\n",
        "b) Sendo RDC de X(z): $  \\frac{1}{4} < |z| < \\frac{1}{2}. $ Então, $$ x[n] = - (\\frac{-1}{4})^nu[n] - (\\frac{1}{2})^nu[-n-1] - 2^nu[-n-1]$$\n",
        "\n",
        "c) Sendo RDC de X(z): $  \\frac{1}{2} < |z| < 2. $ Então, $ x[n] = - (\\frac{-1}{4})^nu[n] - (\\frac{1}{2})^nu[-n-1] - 2^nu[-n-1]$\n",
        "\n",
        "d) Sendo RDC de X(z): $|z| > 2. $ Então, $ x[n] = - (\\frac{-1}{4})^nu[-n-1] - (\\frac{1}{2})^nu[n] - 2^nu[-n-1]$\n",
        "\n",
        "**Solução**\n",
        "\n",
        "*Alternativas Verdadeiras: (a) e (b)*\n",
        "\n",
        "<p align=\"center\">\n",
        "  <img width=\"350\" src=\"https://drive.google.com/uc?id=1VRCoFvcxqwI-H4ZR0jjPQEdg77JmJAS9\">\n",
        "</p>\n",
        "\n",
        "\n",
        "---\n",
        "\n"
      ],
      "metadata": {
        "id": "vpUj8IzgeqkS"
      }
    },
    {
      "cell_type": "markdown",
      "source": [
        "\n",
        "\n",
        "---\n",
        "\n",
        "Dada a Figura com destaque para os $ Zeros = \\{ 0, \\frac{1}{12} \\}$ e $ pólos =\\{-\\frac{1}{3}, \\frac{1}{2} \\}$\n",
        "\n",
        "<p align=\"center\">\n",
        "  <img width=\"350\" src=\"https://github.com/arqPy/PDS/blob/main/PDS/img/plot_z-01.png?raw=true\">\n",
        "</p>\n",
        "\n",
        "\n",
        "\n",
        "\n",
        "\n",
        "\n",
        "Marque a(s) alternativa(s) correta(s)\n",
        "\n",
        "a) A RDC da Transformada-Z deste sinal é $ \\frac{1}{3} < |z| < \\frac{1}{2}$\n",
        "\n",
        "b) O sinal é $x[n] = (-\\frac{1}{3})^nu[n] − (\\frac{1}{2})^nu[−n − 1]$\n",
        "\n",
        "c) Trata-se de um sinal de sequência unilateral à direita\n",
        "\n",
        "d) Trata-se de um sinal de sequência unilateral à esquerda\n",
        "\n",
        "**Solução**\n",
        "\n",
        "*Alternativas Verdadeiras: (a) e (b)*\n",
        "\n",
        "<p align=\"center\">\n",
        "  <img width=\"350\" src=\"https://drive.google.com/uc?id=1VPWseObB0vskdAyVtEly9BD-xSVZB9pY\">\n",
        "</p>\n",
        "\n",
        "\n",
        "\n",
        "---\n",
        "\n"
      ],
      "metadata": {
        "id": "WHKCy9O8fxc9"
      }
    },
    {
      "cell_type": "markdown",
      "source": [
        "\n",
        "\n",
        "---\n",
        "Dado o diagrama de pólos e zeros da Figura\n",
        "\n",
        "<p align=\"center\">\n",
        "  <img width=\"350\" src=\"https://github.com/arqPy/PDS/blob/main/PDS/img/plot_z-02.png?raw=true\">\n",
        "</p>\n",
        "\n",
        "\n",
        "\n",
        "Marque a(s) alternativa(s) correta(s)\n",
        "\n",
        "a) Para o sistema ser estável a RDC de X(z) seria $\\frac{1}{3} < |z| < 2$\n",
        "\n",
        "b) Para o sistema ser estável a RDC de X(z) seria $\\frac{1}{3} < |z| < 3$\n",
        "\n",
        "c) Para o sistema ser causal a RDC de X(z) seria $3 < |z| $\n",
        "\n",
        "d) Para o sistema ser estável e causal a RDC de X(z) seria $\\frac{1}{3} < |z| < 2$\n",
        "\n",
        "**Solução**\n",
        "\n",
        "*Alternativas Verdadeiras: (a) e (c)*\n",
        "\n",
        "<p align=\"center\">\n",
        "  <img width=\"350\" src=\"https://drive.google.com/uc?id=1VOdW6F56BANYUxeifEjbJyQtuDQxv7UG\">\n",
        "</p>\n",
        "\n",
        "\n",
        "\n",
        "\n",
        "---\n",
        "\n",
        "\n"
      ],
      "metadata": {
        "id": "qYFkd3LYhC4s"
      }
    },
    {
      "cell_type": "code",
      "execution_count": null,
      "metadata": {
        "id": "UpnGBTugIhsK"
      },
      "outputs": [],
      "source": [
        "import scipy.signal as sgn\n",
        "import numpy as np"
      ]
    },
    {
      "cell_type": "code",
      "source": [
        "num = [-1/2]\n",
        "den = [1, 1]\n",
        "den = np.polymul([1,-1/2], den)\n",
        "[r,p,k] = sgn.residue(num, den)\n",
        "print(r, p, k)"
      ],
      "metadata": {
        "colab": {
          "base_uri": "https://localhost:8080/"
        },
        "id": "DUqk_7D2tudh",
        "outputId": "27083db8-9ee0-4ab3-afba-7b0e79d215d4"
      },
      "execution_count": null,
      "outputs": [
        {
          "output_type": "stream",
          "name": "stdout",
          "text": [
            "[-0.33333333  0.33333333] [ 0.5 -1. ] []\n"
          ]
        }
      ]
    },
    {
      "cell_type": "code",
      "source": [
        "num = [3, -9/2, 3/8]\n",
        "den = [1, 1/4]\n",
        "den = np.polymul([1, -1/2], den)\n",
        "den = np.polymul([1, -2], den)\n",
        "[r,p,k] = sgn.residue(num, den)\n",
        "print(r, p, k)"
      ],
      "metadata": {
        "colab": {
          "base_uri": "https://localhost:8080/"
        },
        "id": "6vKMg1R7YnCw",
        "outputId": "950cef34-750b-47c9-d22d-569c999768d8"
      },
      "execution_count": null,
      "outputs": [
        {
          "output_type": "stream",
          "name": "stdout",
          "text": [
            "[1. 1. 1.] [-0.25  0.5   2.  ] []\n"
          ]
        }
      ]
    }
  ],
  "metadata": {
    "colab": {
      "provenance": [],
      "authorship_tag": "ABX9TyPq2/KOEZz2WODcIGdGjAqF",
      "include_colab_link": true
    },
    "kernelspec": {
      "display_name": "Python 3",
      "name": "python3"
    },
    "language_info": {
      "name": "python"
    }
  },
  "nbformat": 4,
  "nbformat_minor": 0
}